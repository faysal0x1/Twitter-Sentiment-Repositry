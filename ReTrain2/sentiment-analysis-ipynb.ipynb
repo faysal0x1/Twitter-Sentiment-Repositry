{
 "cells": [
  {
   "cell_type": "code",
   "execution_count": 1,
   "metadata": {
    "ExecuteTime": {
     "end_time": "2024-05-08T16:19:49.084566900Z",
     "start_time": "2024-05-08T16:19:39.006177600Z"
    },
    "_cell_guid": "b1076dfc-b9ad-4769-8c92-a6c4dae69d19",
    "_uuid": "8f2839f25d086af736a60e9eeb907d3b93b6e0e5",
    "execution": {
     "iopub.execute_input": "2024-04-30T14:18:23.061025Z",
     "iopub.status.busy": "2024-04-30T14:18:23.060062Z",
     "iopub.status.idle": "2024-04-30T14:18:23.070929Z",
     "shell.execute_reply": "2024-04-30T14:18:23.069864Z",
     "shell.execute_reply.started": "2024-04-30T14:18:23.060988Z"
    }
   },
   "outputs": [
    {
     "name": "stderr",
     "output_type": "stream",
     "text": [
      "[nltk_data] Downloading package stopwords to\n",
      "[nltk_data]     C:\\Users\\faysa\\AppData\\Roaming\\nltk_data...\n",
      "[nltk_data]   Package stopwords is already up-to-date!\n"
     ]
    },
    {
     "ename": "ImportError",
     "evalue": "cannot import name 'triu' from 'scipy.linalg' (C:\\Users\\faysa\\anaconda3\\envs\\NewMlEnv\\lib\\site-packages\\scipy\\linalg\\__init__.py)",
     "output_type": "error",
     "traceback": [
      "\u001b[1;31m---------------------------------------------------------------------------\u001b[0m",
      "\u001b[1;31mImportError\u001b[0m                               Traceback (most recent call last)",
      "Cell \u001b[1;32mIn[1], line 17\u001b[0m\n\u001b[0;32m     15\u001b[0m nltk\u001b[38;5;241m.\u001b[39mdownload(\u001b[38;5;124m'\u001b[39m\u001b[38;5;124mstopwords\u001b[39m\u001b[38;5;124m'\u001b[39m)\n\u001b[0;32m     16\u001b[0m STOPWORDS \u001b[38;5;241m=\u001b[39m \u001b[38;5;28mset\u001b[39m(stopwords\u001b[38;5;241m.\u001b[39mwords(\u001b[38;5;124m'\u001b[39m\u001b[38;5;124menglish\u001b[39m\u001b[38;5;124m'\u001b[39m))\n\u001b[1;32m---> 17\u001b[0m \u001b[38;5;28;01mfrom\u001b[39;00m \u001b[38;5;21;01mgensim\u001b[39;00m\u001b[38;5;21;01m.\u001b[39;00m\u001b[38;5;21;01mmodels\u001b[39;00m \u001b[38;5;28;01mimport\u001b[39;00m Word2Vec\n\u001b[0;32m     18\u001b[0m \u001b[38;5;28;01mfrom\u001b[39;00m \u001b[38;5;21;01mtensorflow\u001b[39;00m\u001b[38;5;21;01m.\u001b[39;00m\u001b[38;5;21;01mkeras\u001b[39;00m \u001b[38;5;28;01mimport\u001b[39;00m Sequential\n\u001b[0;32m     19\u001b[0m \u001b[38;5;28;01mimport\u001b[39;00m \u001b[38;5;21;01mnumpy\u001b[39;00m \u001b[38;5;28;01mas\u001b[39;00m \u001b[38;5;21;01mnp\u001b[39;00m\n",
      "File \u001b[1;32m~\\anaconda3\\envs\\NewMlEnv\\lib\\site-packages\\gensim\\__init__.py:11\u001b[0m\n\u001b[0;32m      7\u001b[0m __version__ \u001b[38;5;241m=\u001b[39m \u001b[38;5;124m'\u001b[39m\u001b[38;5;124m4.3.0\u001b[39m\u001b[38;5;124m'\u001b[39m\n\u001b[0;32m      9\u001b[0m \u001b[38;5;28;01mimport\u001b[39;00m \u001b[38;5;21;01mlogging\u001b[39;00m\n\u001b[1;32m---> 11\u001b[0m \u001b[38;5;28;01mfrom\u001b[39;00m \u001b[38;5;21;01mgensim\u001b[39;00m \u001b[38;5;28;01mimport\u001b[39;00m parsing, corpora, matutils, interfaces, models, similarities, utils  \u001b[38;5;66;03m# noqa:F401\u001b[39;00m\n\u001b[0;32m     14\u001b[0m logger \u001b[38;5;241m=\u001b[39m logging\u001b[38;5;241m.\u001b[39mgetLogger(\u001b[38;5;124m'\u001b[39m\u001b[38;5;124mgensim\u001b[39m\u001b[38;5;124m'\u001b[39m)\n\u001b[0;32m     15\u001b[0m \u001b[38;5;28;01mif\u001b[39;00m \u001b[38;5;129;01mnot\u001b[39;00m logger\u001b[38;5;241m.\u001b[39mhandlers:  \u001b[38;5;66;03m# To ensure reload() doesn't add another one\u001b[39;00m\n",
      "File \u001b[1;32m~\\anaconda3\\envs\\NewMlEnv\\lib\\site-packages\\gensim\\corpora\\__init__.py:6\u001b[0m\n\u001b[0;32m      1\u001b[0m \u001b[38;5;124;03m\"\"\"\u001b[39;00m\n\u001b[0;32m      2\u001b[0m \u001b[38;5;124;03mThis package contains implementations of various streaming corpus I/O format.\u001b[39;00m\n\u001b[0;32m      3\u001b[0m \u001b[38;5;124;03m\"\"\"\u001b[39;00m\n\u001b[0;32m      5\u001b[0m \u001b[38;5;66;03m# bring corpus classes directly into package namespace, to save some typing\u001b[39;00m\n\u001b[1;32m----> 6\u001b[0m \u001b[38;5;28;01mfrom\u001b[39;00m \u001b[38;5;21;01m.\u001b[39;00m\u001b[38;5;21;01mindexedcorpus\u001b[39;00m \u001b[38;5;28;01mimport\u001b[39;00m IndexedCorpus  \u001b[38;5;66;03m# noqa:F401 must appear before the other classes\u001b[39;00m\n\u001b[0;32m      8\u001b[0m \u001b[38;5;28;01mfrom\u001b[39;00m \u001b[38;5;21;01m.\u001b[39;00m\u001b[38;5;21;01mmmcorpus\u001b[39;00m \u001b[38;5;28;01mimport\u001b[39;00m MmCorpus  \u001b[38;5;66;03m# noqa:F401\u001b[39;00m\n\u001b[0;32m      9\u001b[0m \u001b[38;5;28;01mfrom\u001b[39;00m \u001b[38;5;21;01m.\u001b[39;00m\u001b[38;5;21;01mbleicorpus\u001b[39;00m \u001b[38;5;28;01mimport\u001b[39;00m BleiCorpus  \u001b[38;5;66;03m# noqa:F401\u001b[39;00m\n",
      "File \u001b[1;32m~\\anaconda3\\envs\\NewMlEnv\\lib\\site-packages\\gensim\\corpora\\indexedcorpus.py:14\u001b[0m\n\u001b[0;32m     10\u001b[0m \u001b[38;5;28;01mimport\u001b[39;00m \u001b[38;5;21;01mlogging\u001b[39;00m\n\u001b[0;32m     12\u001b[0m \u001b[38;5;28;01mimport\u001b[39;00m \u001b[38;5;21;01mnumpy\u001b[39;00m\n\u001b[1;32m---> 14\u001b[0m \u001b[38;5;28;01mfrom\u001b[39;00m \u001b[38;5;21;01mgensim\u001b[39;00m \u001b[38;5;28;01mimport\u001b[39;00m interfaces, utils\n\u001b[0;32m     16\u001b[0m logger \u001b[38;5;241m=\u001b[39m logging\u001b[38;5;241m.\u001b[39mgetLogger(\u001b[38;5;18m__name__\u001b[39m)\n\u001b[0;32m     19\u001b[0m \u001b[38;5;28;01mclass\u001b[39;00m \u001b[38;5;21;01mIndexedCorpus\u001b[39;00m(interfaces\u001b[38;5;241m.\u001b[39mCorpusABC):\n",
      "File \u001b[1;32m~\\anaconda3\\envs\\NewMlEnv\\lib\\site-packages\\gensim\\interfaces.py:19\u001b[0m\n\u001b[0;32m      7\u001b[0m \u001b[38;5;124;03m\"\"\"Basic interfaces used across the whole Gensim package.\u001b[39;00m\n\u001b[0;32m      8\u001b[0m \n\u001b[0;32m      9\u001b[0m \u001b[38;5;124;03mThese interfaces are used for building corpora, model transformation and similarity queries.\u001b[39;00m\n\u001b[1;32m   (...)\u001b[0m\n\u001b[0;32m     14\u001b[0m \n\u001b[0;32m     15\u001b[0m \u001b[38;5;124;03m\"\"\"\u001b[39;00m\n\u001b[0;32m     17\u001b[0m \u001b[38;5;28;01mimport\u001b[39;00m \u001b[38;5;21;01mlogging\u001b[39;00m\n\u001b[1;32m---> 19\u001b[0m \u001b[38;5;28;01mfrom\u001b[39;00m \u001b[38;5;21;01mgensim\u001b[39;00m \u001b[38;5;28;01mimport\u001b[39;00m utils, matutils\n\u001b[0;32m     22\u001b[0m logger \u001b[38;5;241m=\u001b[39m logging\u001b[38;5;241m.\u001b[39mgetLogger(\u001b[38;5;18m__name__\u001b[39m)\n\u001b[0;32m     25\u001b[0m \u001b[38;5;28;01mclass\u001b[39;00m \u001b[38;5;21;01mCorpusABC\u001b[39;00m(utils\u001b[38;5;241m.\u001b[39mSaveLoad):\n",
      "File \u001b[1;32m~\\anaconda3\\envs\\NewMlEnv\\lib\\site-packages\\gensim\\matutils.py:20\u001b[0m\n\u001b[0;32m     18\u001b[0m \u001b[38;5;28;01mimport\u001b[39;00m \u001b[38;5;21;01mscipy\u001b[39;00m\u001b[38;5;21;01m.\u001b[39;00m\u001b[38;5;21;01msparse\u001b[39;00m\n\u001b[0;32m     19\u001b[0m \u001b[38;5;28;01mfrom\u001b[39;00m \u001b[38;5;21;01mscipy\u001b[39;00m\u001b[38;5;21;01m.\u001b[39;00m\u001b[38;5;21;01mstats\u001b[39;00m \u001b[38;5;28;01mimport\u001b[39;00m entropy\n\u001b[1;32m---> 20\u001b[0m \u001b[38;5;28;01mfrom\u001b[39;00m \u001b[38;5;21;01mscipy\u001b[39;00m\u001b[38;5;21;01m.\u001b[39;00m\u001b[38;5;21;01mlinalg\u001b[39;00m \u001b[38;5;28;01mimport\u001b[39;00m get_blas_funcs, triu\n\u001b[0;32m     21\u001b[0m \u001b[38;5;28;01mfrom\u001b[39;00m \u001b[38;5;21;01mscipy\u001b[39;00m\u001b[38;5;21;01m.\u001b[39;00m\u001b[38;5;21;01mlinalg\u001b[39;00m\u001b[38;5;21;01m.\u001b[39;00m\u001b[38;5;21;01mlapack\u001b[39;00m \u001b[38;5;28;01mimport\u001b[39;00m get_lapack_funcs\n\u001b[0;32m     22\u001b[0m \u001b[38;5;28;01mfrom\u001b[39;00m \u001b[38;5;21;01mscipy\u001b[39;00m\u001b[38;5;21;01m.\u001b[39;00m\u001b[38;5;21;01mspecial\u001b[39;00m \u001b[38;5;28;01mimport\u001b[39;00m psi  \u001b[38;5;66;03m# gamma function utils\u001b[39;00m\n",
      "\u001b[1;31mImportError\u001b[0m: cannot import name 'triu' from 'scipy.linalg' (C:\\Users\\faysa\\anaconda3\\envs\\NewMlEnv\\lib\\site-packages\\scipy\\linalg\\__init__.py)"
     ]
    }
   ],
   "source": [
    "import pandas as pd\n",
    "import tensorflow \n",
    "from tensorflow.keras.layers import *\n",
    "from tensorflow.keras.preprocessing.text import Tokenizer\n",
    "from tensorflow.keras.preprocessing.sequence import pad_sequences\n",
    "import matplotlib.pyplot as plt\n",
    "import nltk\n",
    "from nltk import WordNetLemmatizer\n",
    "from nltk.corpus import stopwords\n",
    "import spacy\n",
    "import re\n",
    "import sklearn\n",
    "from sklearn.model_selection import train_test_split\n",
    "import tqdm\n",
    "nltk.download('stopwords')\n",
    "STOPWORDS = set(stopwords.words('english'))\n",
    "from gensim.models import Word2Vec\n",
    "from tensorflow.keras import Sequential\n",
    "import numpy as np\n",
    "from tensorflow.keras.utils import to_categorical\n",
    "from sklearn.pipeline import make_pipeline\n",
    "import warnings\n",
    "warnings.filterwarnings('ignore')"
   ]
  },
  {
   "cell_type": "code",
   "execution_count": 2,
   "metadata": {
    "execution": {
     "iopub.execute_input": "2024-04-30T13:32:36.712438Z",
     "iopub.status.busy": "2024-04-30T13:32:36.711805Z",
     "iopub.status.idle": "2024-04-30T13:32:44.093403Z",
     "shell.execute_reply": "2024-04-30T13:32:44.092467Z",
     "shell.execute_reply.started": "2024-04-30T13:32:36.712410Z"
    }
   },
   "outputs": [],
   "source": [
    "columns  = [\"sentiment\", \"ids\", \"date\", \"flag\", \"user\", \"text\"]\n",
    "DATASET_ENCODING = \"latin-1\"\n",
    "dataset = pd.read_csv('training.1600000.processed.noemoticon.csv',\n",
    "                      encoding=DATASET_ENCODING , names=columns).sample(frac=1)\n",
    "\n",
    "dataset = dataset[['sentiment','text']]\n",
    "\n",
    "dataset['sentiment'] = dataset['sentiment'].replace(4,1)\n",
    "\n"
   ]
  },
  {
   "cell_type": "code",
   "execution_count": 3,
   "metadata": {
    "execution": {
     "iopub.execute_input": "2024-04-30T13:32:44.094962Z",
     "iopub.status.busy": "2024-04-30T13:32:44.094640Z",
     "iopub.status.idle": "2024-04-30T13:32:44.167833Z",
     "shell.execute_reply": "2024-04-30T13:32:44.166805Z",
     "shell.execute_reply.started": "2024-04-30T13:32:44.094933Z"
    }
   },
   "outputs": [
    {
     "data": {
      "text/html": [
       "<div>\n",
       "<style scoped>\n",
       "    .dataframe tbody tr th:only-of-type {\n",
       "        vertical-align: middle;\n",
       "    }\n",
       "\n",
       "    .dataframe tbody tr th {\n",
       "        vertical-align: top;\n",
       "    }\n",
       "\n",
       "    .dataframe thead th {\n",
       "        text-align: right;\n",
       "    }\n",
       "</style>\n",
       "<table border=\"1\" class=\"dataframe\">\n",
       "  <thead>\n",
       "    <tr style=\"text-align: right;\">\n",
       "      <th></th>\n",
       "      <th>sentiment</th>\n",
       "      <th>text</th>\n",
       "    </tr>\n",
       "  </thead>\n",
       "  <tbody>\n",
       "    <tr>\n",
       "      <th>592823</th>\n",
       "      <td>0</td>\n",
       "      <td>@tweeterisatrend what's wrong?</td>\n",
       "    </tr>\n",
       "    <tr>\n",
       "      <th>313746</th>\n",
       "      <td>0</td>\n",
       "      <td>@winterchick12 idk..i can't follow more than 2...</td>\n",
       "    </tr>\n",
       "    <tr>\n",
       "      <th>47693</th>\n",
       "      <td>0</td>\n",
       "      <td>Random ER episodes on TV in Bangkok. Comparing...</td>\n",
       "    </tr>\n",
       "    <tr>\n",
       "      <th>113955</th>\n",
       "      <td>0</td>\n",
       "      <td>Driving back down to wales later</td>\n",
       "    </tr>\n",
       "    <tr>\n",
       "      <th>157483</th>\n",
       "      <td>0</td>\n",
       "      <td>Don't feel very well  Going to have a brief na...</td>\n",
       "    </tr>\n",
       "    <tr>\n",
       "      <th>...</th>\n",
       "      <td>...</td>\n",
       "      <td>...</td>\n",
       "    </tr>\n",
       "    <tr>\n",
       "      <th>656784</th>\n",
       "      <td>0</td>\n",
       "      <td>i just realised that my high school education ...</td>\n",
       "    </tr>\n",
       "    <tr>\n",
       "      <th>562642</th>\n",
       "      <td>0</td>\n",
       "      <td>Appliying for a crappy job I don't want</td>\n",
       "    </tr>\n",
       "    <tr>\n",
       "      <th>480664</th>\n",
       "      <td>0</td>\n",
       "      <td>I love Chinese, but Chinese doesn't love me</td>\n",
       "    </tr>\n",
       "    <tr>\n",
       "      <th>82753</th>\n",
       "      <td>0</td>\n",
       "      <td>i turrned my comp off  aim? leundeadhorreur</td>\n",
       "    </tr>\n",
       "    <tr>\n",
       "      <th>410151</th>\n",
       "      <td>0</td>\n",
       "      <td>family dinners suck and i have to spend my sat...</td>\n",
       "    </tr>\n",
       "  </tbody>\n",
       "</table>\n",
       "<p>800000 rows × 2 columns</p>\n",
       "</div>"
      ],
      "text/plain": [
       "        sentiment                                               text\n",
       "592823          0                    @tweeterisatrend what's wrong? \n",
       "313746          0  @winterchick12 idk..i can't follow more than 2...\n",
       "47693           0  Random ER episodes on TV in Bangkok. Comparing...\n",
       "113955          0                  Driving back down to wales later \n",
       "157483          0  Don't feel very well  Going to have a brief na...\n",
       "...           ...                                                ...\n",
       "656784          0  i just realised that my high school education ...\n",
       "562642          0           Appliying for a crappy job I don't want \n",
       "480664          0       I love Chinese, but Chinese doesn't love me \n",
       "82753           0        i turrned my comp off  aim? leundeadhorreur\n",
       "410151          0  family dinners suck and i have to spend my sat...\n",
       "\n",
       "[800000 rows x 2 columns]"
      ]
     },
     "execution_count": 3,
     "metadata": {},
     "output_type": "execute_result"
    }
   ],
   "source": [
    "dataset[dataset['sentiment']==0]"
   ]
  },
  {
   "cell_type": "code",
   "execution_count": 4,
   "metadata": {
    "execution": {
     "iopub.execute_input": "2024-04-30T13:32:44.170734Z",
     "iopub.status.busy": "2024-04-30T13:32:44.170392Z",
     "iopub.status.idle": "2024-04-30T13:32:44.187190Z",
     "shell.execute_reply": "2024-04-30T13:32:44.186291Z",
     "shell.execute_reply.started": "2024-04-30T13:32:44.170708Z"
    }
   },
   "outputs": [
    {
     "data": {
      "text/plain": [
       "array([1, 0])"
      ]
     },
     "execution_count": 4,
     "metadata": {},
     "output_type": "execute_result"
    }
   ],
   "source": [
    "dataset['sentiment'].unique()"
   ]
  },
  {
   "cell_type": "code",
   "execution_count": 5,
   "metadata": {
    "execution": {
     "iopub.execute_input": "2024-04-30T13:32:44.189240Z",
     "iopub.status.busy": "2024-04-30T13:32:44.188867Z",
     "iopub.status.idle": "2024-04-30T13:32:44.483161Z",
     "shell.execute_reply": "2024-04-30T13:32:44.482231Z",
     "shell.execute_reply.started": "2024-04-30T13:32:44.189207Z"
    }
   },
   "outputs": [
    {
     "data": {
      "image/png": "[encoded data removed]",
      "text/plain": [
       "<Figure size 800x600 with 1 Axes>"
      ]
     },
     "metadata": {},
     "output_type": "display_data"
    }
   ],
   "source": [
    "plt.rcParams['font.family'] = 'DejaVu Sans'\n",
    "sentiment_counts = dataset['sentiment'].value_counts()\n",
    "sentiment_labels = {'Negative': 0, 'Positive': 1}\n",
    "plt.figure(figsize=(8, 6))\n",
    "plt.barh(list(sentiment_labels.keys()), list(sentiment_counts.values), color=['red', 'green', 'blue'])\n",
    "plt.xlabel(\"Frequency\")\n",
    "plt.yticks(list(sentiment_labels.values()), list(sentiment_labels.keys()))\n",
    "plt.title(\"Sentiment Frequencies\")\n",
    "plt.grid(axis='x', linestyle='--', alpha=0.6)\n",
    "\n",
    "plt.show()"
   ]
  },
  {
   "cell_type": "markdown",
   "metadata": {
    "execution": {
     "iopub.status.busy": "2024-04-25T22:49:45.143171Z",
     "iopub.status.idle": "2024-04-25T22:49:45.143510Z",
     "shell.execute_reply": "2024-04-25T22:49:45.143353Z",
     "shell.execute_reply.started": "2024-04-25T22:49:45.143340Z"
    }
   },
   "source": []
  },
  {
   "cell_type": "code",
   "execution_count": 6,
   "metadata": {
    "execution": {
     "iopub.execute_input": "2024-04-30T13:32:44.485353Z",
     "iopub.status.busy": "2024-04-30T13:32:44.484683Z",
     "iopub.status.idle": "2024-04-30T13:32:44.756316Z",
     "shell.execute_reply": "2024-04-30T13:32:44.755148Z",
     "shell.execute_reply.started": "2024-04-30T13:32:44.485313Z"
    }
   },
   "outputs": [
    {
     "data": {
      "text/plain": [
       "sentiment    0\n",
       "text         0\n",
       "dtype: int64"
      ]
     },
     "execution_count": 6,
     "metadata": {},
     "output_type": "execute_result"
    }
   ],
   "source": [
    "dataset.isna().sum()"
   ]
  },
  {
   "cell_type": "code",
   "execution_count": 7,
   "metadata": {
    "execution": {
     "iopub.execute_input": "2024-04-30T13:32:44.758261Z",
     "iopub.status.busy": "2024-04-30T13:32:44.757873Z",
     "iopub.status.idle": "2024-04-30T13:32:44.974450Z",
     "shell.execute_reply": "2024-04-30T13:32:44.973259Z",
     "shell.execute_reply.started": "2024-04-30T13:32:44.758226Z"
    }
   },
   "outputs": [],
   "source": [
    "x,y=dataset['text'],dataset['sentiment']\n",
    "x_train,x_test,y_train,y_test=train_test_split(x,y,test_size=0.2,shuffle=True)"
   ]
  },
  {
   "cell_type": "code",
   "execution_count": 8,
   "metadata": {
    "execution": {
     "iopub.execute_input": "2024-04-30T13:32:44.976342Z",
     "iopub.status.busy": "2024-04-30T13:32:44.975990Z",
     "iopub.status.idle": "2024-04-30T13:32:44.983200Z",
     "shell.execute_reply": "2024-04-30T13:32:44.982069Z",
     "shell.execute_reply.started": "2024-04-30T13:32:44.976316Z"
    }
   },
   "outputs": [
    {
     "data": {
      "text/plain": [
       "(1280000, 320000)"
      ]
     },
     "execution_count": 8,
     "metadata": {},
     "output_type": "execute_result"
    }
   ],
   "source": [
    "len(x_train),len(x_test)"
   ]
  },
  {
   "cell_type": "code",
   "execution_count": 9,
   "metadata": {
    "execution": {
     "iopub.execute_input": "2024-04-30T13:32:44.984706Z",
     "iopub.status.busy": "2024-04-30T13:32:44.984371Z",
     "iopub.status.idle": "2024-04-30T13:32:44.993317Z",
     "shell.execute_reply": "2024-04-30T13:32:44.992341Z",
     "shell.execute_reply.started": "2024-04-30T13:32:44.984679Z"
    },
    "jupyter": {
     "source_hidden": true
    }
   },
   "outputs": [],
   "source": [
    "def process_text(document,stopwords=STOPWORDS):\n",
    "    nlp = spacy.load(\"en_core_web_sm\")\n",
    "    document = re.sub(r'\\s+', ' ', document, flags=re.I) \n",
    "    document = re.sub(r'\\W', ' ', str(document))\n",
    "    document = re.sub(r'\\s+[a-zA-Z]\\s+', ' ', document) \n",
    "    document = document.lower() \n",
    "    doc_spacy=nlp(document)\n",
    "    lemma_txt = [\"\".join(token.lemma_) for token in tqdm.tqdm(doc_spacy)]\n",
    "    lemma_no_stop_txt = [word for word in lemma_txt if word not in stopwords]\n",
    "    lemma_no_stop_txt = [word for word in lemma_no_stop_txt if len(word) > 3]\n",
    "    clean_txt = ' '.join(lemma_no_stop_txt)\n",
    "    return clean_txt\n",
    "\n",
    "x_train_preprocessed= x_train"
   ]
  },
  {
   "cell_type": "code",
   "execution_count": 10,
   "metadata": {
    "execution": {
     "iopub.execute_input": "2024-04-30T13:32:44.997478Z",
     "iopub.status.busy": "2024-04-30T13:32:44.997145Z",
     "iopub.status.idle": "2024-04-30T13:32:45.012155Z",
     "shell.execute_reply": "2024-04-30T13:32:45.011153Z",
     "shell.execute_reply.started": "2024-04-30T13:32:44.997453Z"
    }
   },
   "outputs": [
    {
     "data": {
      "text/plain": [
       "1085114    Forgot my phone today &amp; I think it added t...\n",
       "1507132    Who needs enemies when you have friends like m...\n",
       "883502         Sent email to Tony Blackburn blaming him Lol \n",
       "1499876    @jiletta I drink at least a few a day!!  So I ...\n",
       "596362     I should go to bed, but I'm not especially tir...\n",
       "                                 ...                        \n",
       "1542751    Emailing my grad school adviser, I like the so...\n",
       "1328524           Im  happy today ) http://plurk.com/p/y4gae\n",
       "311813     tore some ligerments in my foot and ankle last...\n",
       "154732     dropped Anders off at train station this morni...\n",
       "250735     I dont want to do exams  damn.. has anyone got...\n",
       "Name: text, Length: 1280000, dtype: object"
      ]
     },
     "execution_count": 10,
     "metadata": {},
     "output_type": "execute_result"
    }
   ],
   "source": [
    "x_train_preprocessed"
   ]
  },
  {
   "cell_type": "code",
   "execution_count": 11,
   "metadata": {
    "execution": {
     "iopub.execute_input": "2024-04-30T13:32:45.013601Z",
     "iopub.status.busy": "2024-04-30T13:32:45.013231Z",
     "iopub.status.idle": "2024-04-30T13:32:50.835032Z",
     "shell.execute_reply": "2024-04-30T13:32:50.833907Z",
     "shell.execute_reply.started": "2024-04-30T13:32:45.013541Z"
    }
   },
   "outputs": [],
   "source": [
    "x_train_preprocessed.to_csv('/kaggle/working/x_train_preprocessed.csv')\n"
   ]
  },
  {
   "cell_type": "code",
   "execution_count": 12,
   "metadata": {
    "execution": {
     "iopub.execute_input": "2024-04-30T13:32:50.837052Z",
     "iopub.status.busy": "2024-04-30T13:32:50.836645Z",
     "iopub.status.idle": "2024-04-30T13:34:13.286978Z",
     "shell.execute_reply": "2024-04-30T13:34:13.285859Z",
     "shell.execute_reply.started": "2024-04-30T13:32:50.837016Z"
    }
   },
   "outputs": [
    {
     "data": {
      "text/html": [
       "<div>\n",
       "<style scoped>\n",
       "    .dataframe tbody tr th:only-of-type {\n",
       "        vertical-align: middle;\n",
       "    }\n",
       "\n",
       "    .dataframe tbody tr th {\n",
       "        vertical-align: top;\n",
       "    }\n",
       "\n",
       "    .dataframe thead th {\n",
       "        text-align: right;\n",
       "    }\n",
       "</style>\n",
       "<table border=\"1\" class=\"dataframe\">\n",
       "  <thead>\n",
       "    <tr style=\"text-align: right;\">\n",
       "      <th></th>\n",
       "      <th>words</th>\n",
       "      <th>sequances</th>\n",
       "    </tr>\n",
       "  </thead>\n",
       "  <tbody>\n",
       "    <tr>\n",
       "      <th>0</th>\n",
       "      <td>forgot my phone today amp i think it added to ...</td>\n",
       "      <td>[479, 6, 223, 41, 66, 2, 81, 10, 1511, 3, 4, 1...</td>\n",
       "    </tr>\n",
       "    <tr>\n",
       "      <th>1</th>\n",
       "      <td>who needs enemies when you have friends like mine</td>\n",
       "      <td>[176, 518, 12037, 86, 8, 17, 205, 36, 416]</td>\n",
       "    </tr>\n",
       "    <tr>\n",
       "      <th>2</th>\n",
       "      <td>sent email to tony blackburn blaming him lol</td>\n",
       "      <td>[778, 652, 3, 2395, 33070, 10577, 154, 50]</td>\n",
       "    </tr>\n",
       "    <tr>\n",
       "      <th>3</th>\n",
       "      <td>jiletta i drink at least a few a day so i make...</td>\n",
       "      <td>[196011, 2, 654, 24, 355, 5, 315, 5, 31, 16, 2...</td>\n",
       "    </tr>\n",
       "    <tr>\n",
       "      <th>4</th>\n",
       "      <td>i should go to bed but i'm not especially tire...</td>\n",
       "      <td>[2, 142, 38, 3, 144, 19, 20, 25, 871, 182, 106...</td>\n",
       "    </tr>\n",
       "    <tr>\n",
       "      <th>...</th>\n",
       "      <td>...</td>\n",
       "      <td>...</td>\n",
       "    </tr>\n",
       "    <tr>\n",
       "      <th>1279995</th>\n",
       "      <td>emailing my grad school adviser i like the sou...</td>\n",
       "      <td>[8988, 6, 1567, 151, 22431, 2, 36, 4, 700, 13,...</td>\n",
       "    </tr>\n",
       "    <tr>\n",
       "      <th>1279996</th>\n",
       "      <td>im happy today http plurk com p y4gae</td>\n",
       "      <td>[59, 120, 41, 40, 437, 57, 232, 594922]</td>\n",
       "    </tr>\n",
       "    <tr>\n",
       "      <th>1279997</th>\n",
       "      <td>tore some ligerments in my foot and ankle last...</td>\n",
       "      <td>[8406, 71, 594923, 11, 6, 1263, 7, 2081, 5224,...</td>\n",
       "    </tr>\n",
       "    <tr>\n",
       "      <th>1279998</th>\n",
       "      <td>dropped anders off at train station this morni...</td>\n",
       "      <td>[1286, 29950, 90, 24, 601, 1545, 27, 98, 20, 5...</td>\n",
       "    </tr>\n",
       "    <tr>\n",
       "      <th>1279999</th>\n",
       "      <td>i dont want to do exams damn has anyone got sp...</td>\n",
       "      <td>[2, 167, 79, 3, 42, 616, 245, 104, 394, 49, 32...</td>\n",
       "    </tr>\n",
       "  </tbody>\n",
       "</table>\n",
       "<p>1280000 rows × 2 columns</p>\n",
       "</div>"
      ],
      "text/plain": [
       "                                                     words  \\\n",
       "0        forgot my phone today amp i think it added to ...   \n",
       "1        who needs enemies when you have friends like mine   \n",
       "2             sent email to tony blackburn blaming him lol   \n",
       "3        jiletta i drink at least a few a day so i make...   \n",
       "4        i should go to bed but i'm not especially tire...   \n",
       "...                                                    ...   \n",
       "1279995  emailing my grad school adviser i like the sou...   \n",
       "1279996              im happy today http plurk com p y4gae   \n",
       "1279997  tore some ligerments in my foot and ankle last...   \n",
       "1279998  dropped anders off at train station this morni...   \n",
       "1279999  i dont want to do exams damn has anyone got sp...   \n",
       "\n",
       "                                                 sequances  \n",
       "0        [479, 6, 223, 41, 66, 2, 81, 10, 1511, 3, 4, 1...  \n",
       "1               [176, 518, 12037, 86, 8, 17, 205, 36, 416]  \n",
       "2               [778, 652, 3, 2395, 33070, 10577, 154, 50]  \n",
       "3        [196011, 2, 654, 24, 355, 5, 315, 5, 31, 16, 2...  \n",
       "4        [2, 142, 38, 3, 144, 19, 20, 25, 871, 182, 106...  \n",
       "...                                                    ...  \n",
       "1279995  [8988, 6, 1567, 151, 22431, 2, 36, 4, 700, 13,...  \n",
       "1279996            [59, 120, 41, 40, 437, 57, 232, 594922]  \n",
       "1279997  [8406, 71, 594923, 11, 6, 1263, 7, 2081, 5224,...  \n",
       "1279998  [1286, 29950, 90, 24, 601, 1545, 27, 98, 20, 5...  \n",
       "1279999  [2, 167, 79, 3, 42, 616, 245, 104, 394, 49, 32...  \n",
       "\n",
       "[1280000 rows x 2 columns]"
      ]
     },
     "execution_count": 12,
     "metadata": {},
     "output_type": "execute_result"
    }
   ],
   "source": [
    "tokenizer = Tokenizer(oov_token='<OOV>')\n",
    "tokenizer.fit_on_texts(x_train_preprocessed)  # Ensure consistent preprocessing\n",
    "X_train_sequences = tokenizer.texts_to_sequences(x_train_preprocessed)\n",
    "X_test_sequences = tokenizer.texts_to_sequences(x_test)\n",
    "max_sequence_length = max([len(seq) for seq in X_train_sequences])\n",
    "X_train_padded = pad_sequences(X_train_sequences, maxlen=max_sequence_length)\n",
    "X_test_padded = pad_sequences(X_test_sequences, maxlen=max_sequence_length)\n",
    "pd.DataFrame({'words':tokenizer.sequences_to_texts(list(X_train_sequences)),'sequances':X_train_sequences})"
   ]
  },
  {
   "cell_type": "code",
   "execution_count": 13,
   "metadata": {
    "execution": {
     "iopub.execute_input": "2024-04-30T13:34:13.289111Z",
     "iopub.status.busy": "2024-04-30T13:34:13.288659Z",
     "iopub.status.idle": "2024-04-30T13:34:13.297989Z",
     "shell.execute_reply": "2024-04-30T13:34:13.296749Z",
     "shell.execute_reply.started": "2024-04-30T13:34:13.289071Z"
    }
   },
   "outputs": [
    {
     "data": {
      "text/plain": [
       "1085114    1\n",
       "1507132    1\n",
       "883502     1\n",
       "1499876    1\n",
       "596362     0\n",
       "          ..\n",
       "1542751    1\n",
       "1328524    1\n",
       "311813     0\n",
       "154732     0\n",
       "250735     0\n",
       "Name: sentiment, Length: 1280000, dtype: int64"
      ]
     },
     "execution_count": 13,
     "metadata": {},
     "output_type": "execute_result"
    }
   ],
   "source": [
    "y_train"
   ]
  },
  {
   "cell_type": "code",
   "execution_count": 14,
   "metadata": {
    "execution": {
     "iopub.execute_input": "2024-04-30T13:34:13.300467Z",
     "iopub.status.busy": "2024-04-30T13:34:13.299685Z",
     "iopub.status.idle": "2024-04-30T13:34:13.311855Z",
     "shell.execute_reply": "2024-04-30T13:34:13.310897Z",
     "shell.execute_reply.started": "2024-04-30T13:34:13.300428Z"
    }
   },
   "outputs": [
    {
     "data": {
      "text/plain": [
       "594923"
      ]
     },
     "execution_count": 14,
     "metadata": {},
     "output_type": "execute_result"
    }
   ],
   "source": [
    "len(tokenizer.word_index)"
   ]
  },
  {
   "cell_type": "code",
   "execution_count": 18,
   "metadata": {
    "execution": {
     "iopub.execute_input": "2024-04-30T13:35:44.546001Z",
     "iopub.status.busy": "2024-04-30T13:35:44.545384Z",
     "iopub.status.idle": "2024-04-30T13:35:44.571714Z",
     "shell.execute_reply": "2024-04-30T13:35:44.570967Z",
     "shell.execute_reply.started": "2024-04-30T13:35:44.545969Z"
    }
   },
   "outputs": [],
   "source": [
    "model = Sequential([\n",
    "Embedding(len(tokenizer.word_index)+1, 64),\n",
    "Conv1D(64, 3, activation='relu'),\n",
    "MaxPooling1D(2,2),\n",
    "Dropout(0.2),\n",
    "Conv1D(32,3, activation='relu'),\n",
    "MaxPooling1D(2,2),\n",
    "Flatten(),\n",
    "Dense(8, activation='relu'),\n",
    "Dense(1, activation='sigmoid'),]\n",
    ")\n",
    "model.compile(loss='binary_crossentropy', optimizer='adam', metrics=['accuracy'])"
   ]
  },
  {
   "cell_type": "code",
   "execution_count": 19,
   "metadata": {
    "execution": {
     "iopub.execute_input": "2024-04-30T13:35:47.702742Z",
     "iopub.status.busy": "2024-04-30T13:35:47.702319Z",
     "iopub.status.idle": "2024-04-30T14:04:21.194138Z",
     "shell.execute_reply": "2024-04-30T14:04:21.192945Z",
     "shell.execute_reply.started": "2024-04-30T13:35:47.702710Z"
    }
   },
   "outputs": [
    {
     "name": "stdout",
     "output_type": "stream",
     "text": [
      "Epoch 1/20\n",
      "\u001b[1m10000/10000\u001b[0m \u001b[32m━━━━━━━━━━━━━━━━━━━━\u001b[0m\u001b[37m\u001b[0m \u001b[1m90s\u001b[0m 9ms/step - accuracy: 0.7847 - loss: 0.4491\n",
      "Epoch 2/20\n",
      "\u001b[1m    7/10000\u001b[0m \u001b[37m━━━━━━━━━━━━━━━━━━━━\u001b[0m \u001b[1m1:26\u001b[0m 9ms/step - accuracy: 0.8645 - loss: 0.3093   "
     ]
    },
    {
     "name": "stderr",
     "output_type": "stream",
     "text": [
      "/opt/conda/lib/python3.10/site-packages/keras/src/callbacks/early_stopping.py:156: UserWarning: Early stopping conditioned on metric `val_loss` which is not available. Available metrics are: accuracy,loss\n",
      "  current = self.get_monitor_value(logs)\n"
     ]
    },
    {
     "name": "stdout",
     "output_type": "stream",
     "text": [
      "\u001b[1m10000/10000\u001b[0m \u001b[32m━━━━━━━━━━━━━━━━━━━━\u001b[0m\u001b[37m\u001b[0m \u001b[1m85s\u001b[0m 8ms/step - accuracy: 0.8715 - loss: 0.3021\n",
      "Epoch 3/20\n",
      "\u001b[1m10000/10000\u001b[0m \u001b[32m━━━━━━━━━━━━━━━━━━━━\u001b[0m\u001b[37m\u001b[0m \u001b[1m85s\u001b[0m 8ms/step - accuracy: 0.9110 - loss: 0.2192\n",
      "Epoch 4/20\n",
      "\u001b[1m10000/10000\u001b[0m \u001b[32m━━━━━━━━━━━━━━━━━━━━\u001b[0m\u001b[37m\u001b[0m \u001b[1m85s\u001b[0m 8ms/step - accuracy: 0.9310 - loss: 0.1725\n",
      "Epoch 5/20\n",
      "\u001b[1m10000/10000\u001b[0m \u001b[32m━━━━━━━━━━━━━━━━━━━━\u001b[0m\u001b[37m\u001b[0m \u001b[1m85s\u001b[0m 8ms/step - accuracy: 0.9421 - loss: 0.1451\n",
      "Epoch 6/20\n",
      "\u001b[1m10000/10000\u001b[0m \u001b[32m━━━━━━━━━━━━━━━━━━━━\u001b[0m\u001b[37m\u001b[0m \u001b[1m85s\u001b[0m 8ms/step - accuracy: 0.9502 - loss: 0.1251\n",
      "Epoch 7/20\n",
      "\u001b[1m10000/10000\u001b[0m \u001b[32m━━━━━━━━━━━━━━━━━━━━\u001b[0m\u001b[37m\u001b[0m \u001b[1m85s\u001b[0m 9ms/step - accuracy: 0.9557 - loss: 0.1111\n",
      "Epoch 8/20\n",
      "\u001b[1m10000/10000\u001b[0m \u001b[32m━━━━━━━━━━━━━━━━━━━━\u001b[0m\u001b[37m\u001b[0m \u001b[1m85s\u001b[0m 9ms/step - accuracy: 0.9600 - loss: 0.1006\n",
      "Epoch 9/20\n",
      "\u001b[1m10000/10000\u001b[0m \u001b[32m━━━━━━━━━━━━━━━━━━━━\u001b[0m\u001b[37m\u001b[0m \u001b[1m86s\u001b[0m 9ms/step - accuracy: 0.9633 - loss: 0.0929\n",
      "Epoch 10/20\n",
      "\u001b[1m10000/10000\u001b[0m \u001b[32m━━━━━━━━━━━━━━━━━━━━\u001b[0m\u001b[37m\u001b[0m \u001b[1m86s\u001b[0m 9ms/step - accuracy: 0.9656 - loss: 0.0867\n",
      "Epoch 11/20\n",
      "\u001b[1m10000/10000\u001b[0m \u001b[32m━━━━━━━━━━━━━━━━━━━━\u001b[0m\u001b[37m\u001b[0m \u001b[1m85s\u001b[0m 9ms/step - accuracy: 0.9680 - loss: 0.0810\n",
      "Epoch 12/20\n",
      "\u001b[1m10000/10000\u001b[0m \u001b[32m━━━━━━━━━━━━━━━━━━━━\u001b[0m\u001b[37m\u001b[0m \u001b[1m85s\u001b[0m 9ms/step - accuracy: 0.9694 - loss: 0.0775\n",
      "Epoch 13/20\n",
      "\u001b[1m10000/10000\u001b[0m \u001b[32m━━━━━━━━━━━━━━━━━━━━\u001b[0m\u001b[37m\u001b[0m \u001b[1m86s\u001b[0m 9ms/step - accuracy: 0.9708 - loss: 0.0739\n",
      "Epoch 14/20\n",
      "\u001b[1m10000/10000\u001b[0m \u001b[32m━━━━━━━━━━━━━━━━━━━━\u001b[0m\u001b[37m\u001b[0m \u001b[1m86s\u001b[0m 9ms/step - accuracy: 0.9724 - loss: 0.0707\n",
      "Epoch 15/20\n",
      "\u001b[1m10000/10000\u001b[0m \u001b[32m━━━━━━━━━━━━━━━━━━━━\u001b[0m\u001b[37m\u001b[0m \u001b[1m86s\u001b[0m 9ms/step - accuracy: 0.9735 - loss: 0.0681\n",
      "Epoch 16/20\n",
      "\u001b[1m10000/10000\u001b[0m \u001b[32m━━━━━━━━━━━━━━━━━━━━\u001b[0m\u001b[37m\u001b[0m \u001b[1m86s\u001b[0m 9ms/step - accuracy: 0.9744 - loss: 0.0655\n",
      "Epoch 17/20\n",
      "\u001b[1m10000/10000\u001b[0m \u001b[32m━━━━━━━━━━━━━━━━━━━━\u001b[0m\u001b[37m\u001b[0m \u001b[1m86s\u001b[0m 9ms/step - accuracy: 0.9752 - loss: 0.0634\n",
      "Epoch 18/20\n",
      "\u001b[1m10000/10000\u001b[0m \u001b[32m━━━━━━━━━━━━━━━━━━━━\u001b[0m\u001b[37m\u001b[0m \u001b[1m86s\u001b[0m 9ms/step - accuracy: 0.9758 - loss: 0.0614\n",
      "Epoch 19/20\n",
      "\u001b[1m10000/10000\u001b[0m \u001b[32m━━━━━━━━━━━━━━━━━━━━\u001b[0m\u001b[37m\u001b[0m \u001b[1m86s\u001b[0m 9ms/step - accuracy: 0.9766 - loss: 0.0595\n",
      "Epoch 20/20\n",
      "\u001b[1m10000/10000\u001b[0m \u001b[32m━━━━━━━━━━━━━━━━━━━━\u001b[0m\u001b[37m\u001b[0m \u001b[1m86s\u001b[0m 9ms/step - accuracy: 0.9773 - loss: 0.0581\n"
     ]
    }
   ],
   "source": [
    "Early_Stopping=tensorflow.keras.callbacks.EarlyStopping(patience=3,verbose=1)\n",
    "history=model.fit(X_train_padded,y_train, epochs=20,batch_size=128,callbacks=[Early_Stopping])"
   ]
  },
  {
   "cell_type": "code",
   "execution_count": 20,
   "metadata": {
    "execution": {
     "iopub.execute_input": "2024-04-30T14:04:23.777897Z",
     "iopub.status.busy": "2024-04-30T14:04:23.777439Z",
     "iopub.status.idle": "2024-04-30T14:04:41.046346Z",
     "shell.execute_reply": "2024-04-30T14:04:41.045293Z",
     "shell.execute_reply.started": "2024-04-30T14:04:23.777863Z"
    }
   },
   "outputs": [
    {
     "name": "stdout",
     "output_type": "stream",
     "text": [
      "\u001b[1m10000/10000\u001b[0m \u001b[32m━━━━━━━━━━━━━━━━━━━━\u001b[0m\u001b[37m\u001b[0m \u001b[1m17s\u001b[0m 2ms/step - accuracy: 0.7822 - loss: 0.9012\n"
     ]
    }
   ],
   "source": [
    "test_history=model.evaluate(X_test_padded,y_test)"
   ]
  },
  {
   "cell_type": "code",
   "execution_count": 21,
   "metadata": {
    "execution": {
     "iopub.execute_input": "2024-04-30T14:04:45.011404Z",
     "iopub.status.busy": "2024-04-30T14:04:45.010486Z",
     "iopub.status.idle": "2024-04-30T14:04:45.042756Z",
     "shell.execute_reply": "2024-04-30T14:04:45.041634Z",
     "shell.execute_reply.started": "2024-04-30T14:04:45.011367Z"
    }
   },
   "outputs": [
    {
     "data": {
      "text/html": [
       "<pre style=\"white-space:pre;overflow-x:auto;line-height:normal;font-family:Menlo,'DejaVu Sans Mono',consolas,'Courier New',monospace\"><span style=\"font-weight: bold\">Model: \"sequential_1\"</span>\n",
       "</pre>\n"
      ],
      "text/plain": [
       "\u001b[1mModel: \"sequential_1\"\u001b[0m\n"
      ]
     },
     "metadata": {},
     "output_type": "display_data"
    },
    {
     "data": {
      "text/html": [
       "<pre style=\"white-space:pre;overflow-x:auto;line-height:normal;font-family:Menlo,'DejaVu Sans Mono',consolas,'Courier New',monospace\">┏━━━━━━━━━━━━━━━━━━━━━━━━━━━━━━━━━┳━━━━━━━━━━━━━━━━━━━━━━━━┳━━━━━━━━━━━━━━━┓\n",
       "┃<span style=\"font-weight: bold\"> Layer (type)                    </span>┃<span style=\"font-weight: bold\"> Output Shape           </span>┃<span style=\"font-weight: bold\">       Param # </span>┃\n",
       "┡━━━━━━━━━━━━━━━━━━━━━━━━━━━━━━━━━╇━━━━━━━━━━━━━━━━━━━━━━━━╇━━━━━━━━━━━━━━━┩\n",
       "│ embedding_1 (<span style=\"color: #0087ff; text-decoration-color: #0087ff\">Embedding</span>)         │ (<span style=\"color: #00af00; text-decoration-color: #00af00\">128</span>, <span style=\"color: #00af00; text-decoration-color: #00af00\">118</span>, <span style=\"color: #00af00; text-decoration-color: #00af00\">64</span>)         │    <span style=\"color: #00af00; text-decoration-color: #00af00\">38,075,136</span> │\n",
       "├─────────────────────────────────┼────────────────────────┼───────────────┤\n",
       "│ conv1d_2 (<span style=\"color: #0087ff; text-decoration-color: #0087ff\">Conv1D</span>)               │ (<span style=\"color: #00af00; text-decoration-color: #00af00\">128</span>, <span style=\"color: #00af00; text-decoration-color: #00af00\">116</span>, <span style=\"color: #00af00; text-decoration-color: #00af00\">64</span>)         │        <span style=\"color: #00af00; text-decoration-color: #00af00\">12,352</span> │\n",
       "├─────────────────────────────────┼────────────────────────┼───────────────┤\n",
       "│ max_pooling1d_2 (<span style=\"color: #0087ff; text-decoration-color: #0087ff\">MaxPooling1D</span>)  │ (<span style=\"color: #00af00; text-decoration-color: #00af00\">128</span>, <span style=\"color: #00af00; text-decoration-color: #00af00\">58</span>, <span style=\"color: #00af00; text-decoration-color: #00af00\">64</span>)          │             <span style=\"color: #00af00; text-decoration-color: #00af00\">0</span> │\n",
       "├─────────────────────────────────┼────────────────────────┼───────────────┤\n",
       "│ dropout (<span style=\"color: #0087ff; text-decoration-color: #0087ff\">Dropout</span>)               │ (<span style=\"color: #00af00; text-decoration-color: #00af00\">128</span>, <span style=\"color: #00af00; text-decoration-color: #00af00\">58</span>, <span style=\"color: #00af00; text-decoration-color: #00af00\">64</span>)          │             <span style=\"color: #00af00; text-decoration-color: #00af00\">0</span> │\n",
       "├─────────────────────────────────┼────────────────────────┼───────────────┤\n",
       "│ conv1d_3 (<span style=\"color: #0087ff; text-decoration-color: #0087ff\">Conv1D</span>)               │ (<span style=\"color: #00af00; text-decoration-color: #00af00\">128</span>, <span style=\"color: #00af00; text-decoration-color: #00af00\">56</span>, <span style=\"color: #00af00; text-decoration-color: #00af00\">32</span>)          │         <span style=\"color: #00af00; text-decoration-color: #00af00\">6,176</span> │\n",
       "├─────────────────────────────────┼────────────────────────┼───────────────┤\n",
       "│ max_pooling1d_3 (<span style=\"color: #0087ff; text-decoration-color: #0087ff\">MaxPooling1D</span>)  │ (<span style=\"color: #00af00; text-decoration-color: #00af00\">128</span>, <span style=\"color: #00af00; text-decoration-color: #00af00\">28</span>, <span style=\"color: #00af00; text-decoration-color: #00af00\">32</span>)          │             <span style=\"color: #00af00; text-decoration-color: #00af00\">0</span> │\n",
       "├─────────────────────────────────┼────────────────────────┼───────────────┤\n",
       "│ flatten_1 (<span style=\"color: #0087ff; text-decoration-color: #0087ff\">Flatten</span>)             │ (<span style=\"color: #00af00; text-decoration-color: #00af00\">128</span>, <span style=\"color: #00af00; text-decoration-color: #00af00\">896</span>)             │             <span style=\"color: #00af00; text-decoration-color: #00af00\">0</span> │\n",
       "├─────────────────────────────────┼────────────────────────┼───────────────┤\n",
       "│ dense_2 (<span style=\"color: #0087ff; text-decoration-color: #0087ff\">Dense</span>)                 │ (<span style=\"color: #00af00; text-decoration-color: #00af00\">128</span>, <span style=\"color: #00af00; text-decoration-color: #00af00\">8</span>)               │         <span style=\"color: #00af00; text-decoration-color: #00af00\">7,176</span> │\n",
       "├─────────────────────────────────┼────────────────────────┼───────────────┤\n",
       "│ dense_3 (<span style=\"color: #0087ff; text-decoration-color: #0087ff\">Dense</span>)                 │ (<span style=\"color: #00af00; text-decoration-color: #00af00\">128</span>, <span style=\"color: #00af00; text-decoration-color: #00af00\">1</span>)               │             <span style=\"color: #00af00; text-decoration-color: #00af00\">9</span> │\n",
       "└─────────────────────────────────┴────────────────────────┴───────────────┘\n",
       "</pre>\n"
      ],
      "text/plain": [
       "┏━━━━━━━━━━━━━━━━━━━━━━━━━━━━━━━━━┳━━━━━━━━━━━━━━━━━━━━━━━━┳━━━━━━━━━━━━━━━┓\n",
       "┃\u001b[1m \u001b[0m\u001b[1mLayer (type)                   \u001b[0m\u001b[1m \u001b[0m┃\u001b[1m \u001b[0m\u001b[1mOutput Shape          \u001b[0m\u001b[1m \u001b[0m┃\u001b[1m \u001b[0m\u001b[1m      Param #\u001b[0m\u001b[1m \u001b[0m┃\n",
       "┡━━━━━━━━━━━━━━━━━━━━━━━━━━━━━━━━━╇━━━━━━━━━━━━━━━━━━━━━━━━╇━━━━━━━━━━━━━━━┩\n",
       "│ embedding_1 (\u001b[38;5;33mEmbedding\u001b[0m)         │ (\u001b[38;5;34m128\u001b[0m, \u001b[38;5;34m118\u001b[0m, \u001b[38;5;34m64\u001b[0m)         │    \u001b[38;5;34m38,075,136\u001b[0m │\n",
       "├─────────────────────────────────┼────────────────────────┼───────────────┤\n",
       "│ conv1d_2 (\u001b[38;5;33mConv1D\u001b[0m)               │ (\u001b[38;5;34m128\u001b[0m, \u001b[38;5;34m116\u001b[0m, \u001b[38;5;34m64\u001b[0m)         │        \u001b[38;5;34m12,352\u001b[0m │\n",
       "├─────────────────────────────────┼────────────────────────┼───────────────┤\n",
       "│ max_pooling1d_2 (\u001b[38;5;33mMaxPooling1D\u001b[0m)  │ (\u001b[38;5;34m128\u001b[0m, \u001b[38;5;34m58\u001b[0m, \u001b[38;5;34m64\u001b[0m)          │             \u001b[38;5;34m0\u001b[0m │\n",
       "├─────────────────────────────────┼────────────────────────┼───────────────┤\n",
       "│ dropout (\u001b[38;5;33mDropout\u001b[0m)               │ (\u001b[38;5;34m128\u001b[0m, \u001b[38;5;34m58\u001b[0m, \u001b[38;5;34m64\u001b[0m)          │             \u001b[38;5;34m0\u001b[0m │\n",
       "├─────────────────────────────────┼────────────────────────┼───────────────┤\n",
       "│ conv1d_3 (\u001b[38;5;33mConv1D\u001b[0m)               │ (\u001b[38;5;34m128\u001b[0m, \u001b[38;5;34m56\u001b[0m, \u001b[38;5;34m32\u001b[0m)          │         \u001b[38;5;34m6,176\u001b[0m │\n",
       "├─────────────────────────────────┼────────────────────────┼───────────────┤\n",
       "│ max_pooling1d_3 (\u001b[38;5;33mMaxPooling1D\u001b[0m)  │ (\u001b[38;5;34m128\u001b[0m, \u001b[38;5;34m28\u001b[0m, \u001b[38;5;34m32\u001b[0m)          │             \u001b[38;5;34m0\u001b[0m │\n",
       "├─────────────────────────────────┼────────────────────────┼───────────────┤\n",
       "│ flatten_1 (\u001b[38;5;33mFlatten\u001b[0m)             │ (\u001b[38;5;34m128\u001b[0m, \u001b[38;5;34m896\u001b[0m)             │             \u001b[38;5;34m0\u001b[0m │\n",
       "├─────────────────────────────────┼────────────────────────┼───────────────┤\n",
       "│ dense_2 (\u001b[38;5;33mDense\u001b[0m)                 │ (\u001b[38;5;34m128\u001b[0m, \u001b[38;5;34m8\u001b[0m)               │         \u001b[38;5;34m7,176\u001b[0m │\n",
       "├─────────────────────────────────┼────────────────────────┼───────────────┤\n",
       "│ dense_3 (\u001b[38;5;33mDense\u001b[0m)                 │ (\u001b[38;5;34m128\u001b[0m, \u001b[38;5;34m1\u001b[0m)               │             \u001b[38;5;34m9\u001b[0m │\n",
       "└─────────────────────────────────┴────────────────────────┴───────────────┘\n"
      ]
     },
     "metadata": {},
     "output_type": "display_data"
    },
    {
     "data": {
      "text/html": [
       "<pre style=\"white-space:pre;overflow-x:auto;line-height:normal;font-family:Menlo,'DejaVu Sans Mono',consolas,'Courier New',monospace\"><span style=\"font-weight: bold\"> Total params: </span><span style=\"color: #00af00; text-decoration-color: #00af00\">114,302,549</span> (436.03 MB)\n",
       "</pre>\n"
      ],
      "text/plain": [
       "\u001b[1m Total params: \u001b[0m\u001b[38;5;34m114,302,549\u001b[0m (436.03 MB)\n"
      ]
     },
     "metadata": {},
     "output_type": "display_data"
    },
    {
     "data": {
      "text/html": [
       "<pre style=\"white-space:pre;overflow-x:auto;line-height:normal;font-family:Menlo,'DejaVu Sans Mono',consolas,'Courier New',monospace\"><span style=\"font-weight: bold\"> Trainable params: </span><span style=\"color: #00af00; text-decoration-color: #00af00\">38,100,849</span> (145.34 MB)\n",
       "</pre>\n"
      ],
      "text/plain": [
       "\u001b[1m Trainable params: \u001b[0m\u001b[38;5;34m38,100,849\u001b[0m (145.34 MB)\n"
      ]
     },
     "metadata": {},
     "output_type": "display_data"
    },
    {
     "data": {
      "text/html": [
       "<pre style=\"white-space:pre;overflow-x:auto;line-height:normal;font-family:Menlo,'DejaVu Sans Mono',consolas,'Courier New',monospace\"><span style=\"font-weight: bold\"> Non-trainable params: </span><span style=\"color: #00af00; text-decoration-color: #00af00\">0</span> (0.00 B)\n",
       "</pre>\n"
      ],
      "text/plain": [
       "\u001b[1m Non-trainable params: \u001b[0m\u001b[38;5;34m0\u001b[0m (0.00 B)\n"
      ]
     },
     "metadata": {},
     "output_type": "display_data"
    },
    {
     "data": {
      "text/html": [
       "<pre style=\"white-space:pre;overflow-x:auto;line-height:normal;font-family:Menlo,'DejaVu Sans Mono',consolas,'Courier New',monospace\"><span style=\"font-weight: bold\"> Optimizer params: </span><span style=\"color: #00af00; text-decoration-color: #00af00\">76,201,700</span> (290.69 MB)\n",
       "</pre>\n"
      ],
      "text/plain": [
       "\u001b[1m Optimizer params: \u001b[0m\u001b[38;5;34m76,201,700\u001b[0m (290.69 MB)\n"
      ]
     },
     "metadata": {},
     "output_type": "display_data"
    }
   ],
   "source": [
    "model.summary()"
   ]
  },
  {
   "cell_type": "code",
   "execution_count": 22,
   "metadata": {
    "execution": {
     "iopub.execute_input": "2024-04-30T14:04:49.413712Z",
     "iopub.status.busy": "2024-04-30T14:04:49.412450Z",
     "iopub.status.idle": "2024-04-30T14:04:49.420626Z",
     "shell.execute_reply": "2024-04-30T14:04:49.419520Z",
     "shell.execute_reply.started": "2024-04-30T14:04:49.413661Z"
    }
   },
   "outputs": [
    {
     "data": {
      "text/plain": [
       "array([[    0,     0,     0, ...,    22,     4,   347],\n",
       "       [    0,     0,     0, ...,   205,    36,   416],\n",
       "       [    0,     0,     0, ..., 10577,   154,    50],\n",
       "       ...,\n",
       "       [    0,     0,     0, ...,  5224,    16,   623],\n",
       "       [    0,     0,     0, ...,  1450,   352,   178],\n",
       "       [    0,     0,     0, ...,     3,   337,    15]], dtype=int32)"
      ]
     },
     "execution_count": 22,
     "metadata": {},
     "output_type": "execute_result"
    }
   ],
   "source": [
    "X_train_padded"
   ]
  },
  {
   "cell_type": "code",
   "execution_count": 23,
   "metadata": {
    "execution": {
     "iopub.execute_input": "2024-04-30T14:04:52.556545Z",
     "iopub.status.busy": "2024-04-30T14:04:52.556174Z",
     "iopub.status.idle": "2024-04-30T14:04:52.563871Z",
     "shell.execute_reply": "2024-04-30T14:04:52.562665Z",
     "shell.execute_reply.started": "2024-04-30T14:04:52.556517Z"
    }
   },
   "outputs": [],
   "source": [
    "def predict_sentiment(input_text, model, tokenizer,max_sequence_length=max_sequence_length):\n",
    "    classes = ['Negative', 'Positive']\n",
    "    x_test_sequences = tokenizer.texts_to_sequences(input_text)\n",
    "    X_test_padded = pad_sequences(x_test_sequences, maxlen=max_sequence_length, truncating='pre')\n",
    "    probabilities = model.predict(X_test_padded)\n",
    "    predictions = classes[int(np.round([i for i in probabilities]))]\n",
    "    return predictions\n",
    "\n"
   ]
  },
  {
   "cell_type": "code",
   "execution_count": 34,
   "metadata": {
    "execution": {
     "iopub.execute_input": "2024-04-30T14:18:33.202933Z",
     "iopub.status.busy": "2024-04-30T14:18:33.201983Z",
     "iopub.status.idle": "2024-04-30T14:18:33.274814Z",
     "shell.execute_reply": "2024-04-30T14:18:33.273810Z",
     "shell.execute_reply.started": "2024-04-30T14:18:33.202898Z"
    }
   },
   "outputs": [
    {
     "name": "stdout",
     "output_type": "stream",
     "text": [
      "\u001b[1m1/1\u001b[0m \u001b[32m━━━━━━━━━━━━━━━━━━━━\u001b[0m\u001b[37m\u001b[0m \u001b[1m0s\u001b[0m 18ms/step\n"
     ]
    },
    {
     "data": {
      "text/plain": [
       "'Negative'"
      ]
     },
     "execution_count": 34,
     "metadata": {},
     "output_type": "execute_result"
    }
   ],
   "source": [
    " predict_sentiment(['ifeel that i didnt drink any coffe from 10 months'], model, tokenizer)"
   ]
  },
  {
   "cell_type": "code",
   "execution_count": 1,
   "metadata": {
    "ExecuteTime": {
     "end_time": "2024-05-08T16:19:18.707115100Z",
     "start_time": "2024-05-08T16:19:17.262658700Z"
    },
    "execution": {
     "iopub.execute_input": "2024-04-30T14:18:34.164331Z",
     "iopub.status.busy": "2024-04-30T14:18:34.163956Z",
     "iopub.status.idle": "2024-04-30T14:18:34.236442Z",
     "shell.execute_reply": "2024-04-30T14:18:34.235525Z",
     "shell.execute_reply.started": "2024-04-30T14:18:34.164302Z"
    }
   },
   "outputs": [
    {
     "ename": "NameError",
     "evalue": "name 'predict_sentiment' is not defined",
     "output_type": "error",
     "traceback": [
      "\u001b[1;31m---------------------------------------------------------------------------\u001b[0m",
      "\u001b[1;31mNameError\u001b[0m                                 Traceback (most recent call last)",
      "Cell \u001b[1;32mIn[1], line 1\u001b[0m\n\u001b[1;32m----> 1\u001b[0m \u001b[43mpredict_sentiment\u001b[49m([\u001b[38;5;124m'\u001b[39m\u001b[38;5;124mifeel that drink  coffe ,iam happy and have big contractions \u001b[39m\u001b[38;5;124m'\u001b[39m], model, tokenizer)\n",
      "\u001b[1;31mNameError\u001b[0m: name 'predict_sentiment' is not defined"
     ]
    }
   ],
   "source": [
    " predict_sentiment(['ifeel that drink  coffe ,iam happy and have big contractions '], model, tokenizer)"
   ]
  },
  {
   "cell_type": "code",
   "execution_count": 36,
   "metadata": {
    "execution": {
     "iopub.execute_input": "2024-04-30T14:18:35.531019Z",
     "iopub.status.busy": "2024-04-30T14:18:35.530324Z",
     "iopub.status.idle": "2024-04-30T14:18:35.605766Z",
     "shell.execute_reply": "2024-04-30T14:18:35.604820Z",
     "shell.execute_reply.started": "2024-04-30T14:18:35.530983Z"
    }
   },
   "outputs": [
    {
     "name": "stdout",
     "output_type": "stream",
     "text": [
      "\u001b[1m1/1\u001b[0m \u001b[32m━━━━━━━━━━━━━━━━━━━━\u001b[0m\u001b[37m\u001b[0m \u001b[1m0s\u001b[0m 19ms/step\n"
     ]
    },
    {
     "data": {
      "text/plain": [
       "'Positive'"
      ]
     },
     "execution_count": 36,
     "metadata": {},
     "output_type": "execute_result"
    }
   ],
   "source": [
    " predict_sentiment(['You’re doing great!'], model, tokenizer)"
   ]
  },
  {
   "cell_type": "code",
   "execution_count": 37,
   "metadata": {
    "execution": {
     "iopub.execute_input": "2024-04-30T14:18:39.959844Z",
     "iopub.status.busy": "2024-04-30T14:18:39.959112Z",
     "iopub.status.idle": "2024-04-30T14:18:40.033967Z",
     "shell.execute_reply": "2024-04-30T14:18:40.032844Z",
     "shell.execute_reply.started": "2024-04-30T14:18:39.959808Z"
    }
   },
   "outputs": [
    {
     "name": "stdout",
     "output_type": "stream",
     "text": [
      "\u001b[1m1/1\u001b[0m \u001b[32m━━━━━━━━━━━━━━━━━━━━\u001b[0m\u001b[37m\u001b[0m \u001b[1m0s\u001b[0m 19ms/step\n"
     ]
    },
    {
     "data": {
      "text/plain": [
       "'Negative'"
      ]
     },
     "execution_count": 37,
     "metadata": {},
     "output_type": "execute_result"
    }
   ],
   "source": [
    " predict_sentiment(['negative!'], model, tokenizer)"
   ]
  },
  {
   "cell_type": "code",
   "execution_count": 38,
   "metadata": {
    "execution": {
     "iopub.execute_input": "2024-04-30T14:18:43.644071Z",
     "iopub.status.busy": "2024-04-30T14:18:43.643203Z",
     "iopub.status.idle": "2024-04-30T14:18:43.713732Z",
     "shell.execute_reply": "2024-04-30T14:18:43.712810Z",
     "shell.execute_reply.started": "2024-04-30T14:18:43.644037Z"
    }
   },
   "outputs": [
    {
     "name": "stdout",
     "output_type": "stream",
     "text": [
      "\u001b[1m1/1\u001b[0m \u001b[32m━━━━━━━━━━━━━━━━━━━━\u001b[0m\u001b[37m\u001b[0m \u001b[1m0s\u001b[0m 19ms/step\n"
     ]
    },
    {
     "data": {
      "text/plain": [
       "'Negative'"
      ]
     },
     "execution_count": 38,
     "metadata": {},
     "output_type": "execute_result"
    }
   ],
   "source": [
    " predict_sentiment(['You’re doing bad!'], model, tokenizer)"
   ]
  },
  {
   "cell_type": "code",
   "execution_count": 39,
   "metadata": {
    "execution": {
     "iopub.execute_input": "2024-04-30T14:18:48.336964Z",
     "iopub.status.busy": "2024-04-30T14:18:48.336516Z",
     "iopub.status.idle": "2024-04-30T14:18:48.425464Z",
     "shell.execute_reply": "2024-04-30T14:18:48.424489Z",
     "shell.execute_reply.started": "2024-04-30T14:18:48.336934Z"
    }
   },
   "outputs": [
    {
     "name": "stdout",
     "output_type": "stream",
     "text": [
      "\u001b[1m1/1\u001b[0m \u001b[32m━━━━━━━━━━━━━━━━━━━━\u001b[0m\u001b[37m\u001b[0m \u001b[1m0s\u001b[0m 20ms/step\n"
     ]
    },
    {
     "data": {
      "text/plain": [
       "'Negative'"
      ]
     },
     "execution_count": 39,
     "metadata": {},
     "output_type": "execute_result"
    }
   ],
   "source": [
    " predict_sentiment(['I will kill my self!'], model, tokenizer)"
   ]
  },
  {
   "cell_type": "code",
   "execution_count": 40,
   "metadata": {
    "execution": {
     "iopub.execute_input": "2024-04-30T14:18:51.523538Z",
     "iopub.status.busy": "2024-04-30T14:18:51.523155Z",
     "iopub.status.idle": "2024-04-30T14:18:51.602727Z",
     "shell.execute_reply": "2024-04-30T14:18:51.601634Z",
     "shell.execute_reply.started": "2024-04-30T14:18:51.523509Z"
    }
   },
   "outputs": [
    {
     "name": "stdout",
     "output_type": "stream",
     "text": [
      "\u001b[1m1/1\u001b[0m \u001b[32m━━━━━━━━━━━━━━━━━━━━\u001b[0m\u001b[37m\u001b[0m \u001b[1m0s\u001b[0m 20ms/step\n"
     ]
    },
    {
     "data": {
      "text/plain": [
       "'Negative'"
      ]
     },
     "execution_count": 40,
     "metadata": {},
     "output_type": "execute_result"
    }
   ],
   "source": [
    " predict_sentiment(['I will burn my self!'], model, tokenizer)"
   ]
  },
  {
   "cell_type": "code",
   "execution_count": 41,
   "metadata": {
    "execution": {
     "iopub.execute_input": "2024-04-30T14:18:57.367395Z",
     "iopub.status.busy": "2024-04-30T14:18:57.367001Z",
     "iopub.status.idle": "2024-04-30T14:18:57.440737Z",
     "shell.execute_reply": "2024-04-30T14:18:57.439693Z",
     "shell.execute_reply.started": "2024-04-30T14:18:57.367365Z"
    }
   },
   "outputs": [
    {
     "name": "stdout",
     "output_type": "stream",
     "text": [
      "\u001b[1m1/1\u001b[0m \u001b[32m━━━━━━━━━━━━━━━━━━━━\u001b[0m\u001b[37m\u001b[0m \u001b[1m0s\u001b[0m 19ms/step\n"
     ]
    },
    {
     "data": {
      "text/plain": [
       "'Positive'"
      ]
     },
     "execution_count": 41,
     "metadata": {},
     "output_type": "execute_result"
    }
   ],
   "source": [
    " predict_sentiment(['I am happy its my birthday!'], model, tokenizer)"
   ]
  },
  {
   "cell_type": "code",
   "execution_count": 32,
   "metadata": {
    "execution": {
     "iopub.execute_input": "2024-04-30T14:06:40.732218Z",
     "iopub.status.busy": "2024-04-30T14:06:40.731843Z",
     "iopub.status.idle": "2024-04-30T14:06:41.411635Z",
     "shell.execute_reply": "2024-04-30T14:06:41.410644Z",
     "shell.execute_reply.started": "2024-04-30T14:06:40.732190Z"
    }
   },
   "outputs": [
    {
     "data": {
      "image/png": "[encoded data removed]",
      "text/plain": [
       "<Figure size 1000x400 with 2 Axes>"
      ]
     },
     "metadata": {},
     "output_type": "display_data"
    }
   ],
   "source": [
    "import matplotlib.pyplot as plt\n",
    "\n",
    "def plot_training_history(history):\n",
    "\n",
    "    train_accuracy = history.history['accuracy']\n",
    "    train_loss = history.history['loss']\n",
    "\n",
    "    plt.figure(figsize=(10, 4))\n",
    "    plt.subplot(1, 2, 1)\n",
    "    plt.plot(range(1, len(train_accuracy) + 1), train_accuracy, label='Training Accuracy')\n",
    "    plt.xlabel('Epochs')\n",
    "    plt.ylabel('Accuracy')\n",
    "    plt.title('Training Accuracy')\n",
    "    plt.legend()\n",
    "\n",
    "    plt.subplot(1, 2, 2)\n",
    "    plt.plot(range(1, len(train_loss) + 1), train_loss, label='Training Loss')\n",
    "    plt.xlabel('Epochs')\n",
    "    plt.ylabel('Loss')\n",
    "    plt.title('Training Loss')\n",
    "    plt.legend()\n",
    "\n",
    "    plt.tight_layout()\n",
    "    plt.show()\n",
    "\n",
    "plot_training_history(history)"
   ]
  },
  {
   "cell_type": "code",
   "execution_count": null,
   "metadata": {},
   "outputs": [],
   "source": []
  }
 ],
 "metadata": {
  "kaggle": {
   "accelerator": "gpu",
   "dataSources": [
    {
     "datasetId": 2477,
     "sourceId": 4140,
     "sourceType": "datasetVersion"
    }
   ],
   "dockerImageVersionId": 30698,
   "isGpuEnabled": true,
   "isInternetEnabled": true,
   "language": "python",
   "sourceType": "notebook"
  },
  "kernelspec": {
   "display_name": "Python 3 (ipykernel)",
   "language": "python",
   "name": "python3"
  },
  "language_info": {
   "codemirror_mode": {
    "name": "ipython",
    "version": 3
   },
   "file_extension": ".py",
   "mimetype": "text/x-python",
   "name": "python",
   "nbconvert_exporter": "python",
   "pygments_lexer": "ipython3",
   "version": "3.10.0"
  }
 },
 "nbformat": 4,
 "nbformat_minor": 4
}
